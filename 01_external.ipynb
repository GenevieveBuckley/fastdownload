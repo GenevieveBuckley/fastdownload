{
 "cells": [
  {
   "cell_type": "markdown",
   "id": "cae6f93d",
   "metadata": {},
   "source": [
    "# External"
   ]
  },
  {
   "cell_type": "code",
   "execution_count": null,
   "id": "89fe6b40",
   "metadata": {},
   "outputs": [],
   "source": [
    "# default_exp external"
   ]
  },
  {
   "cell_type": "code",
   "execution_count": null,
   "id": "9e4b351a",
   "metadata": {},
   "outputs": [],
   "source": [
    "# export\n",
    "import json\n",
    "import warnings\n",
    "from nbdev.showdoc import *\n",
    "from fastprogress.fastprogress import progress_bar\n",
    "from fastcore.all import *\n",
    "from fastdownload.helper import *\n",
    "from fastdownload.helper import _get_URLs, _check_present, _check_url, _check_file"
   ]
  },
  {
   "cell_type": "markdown",
   "id": "2c64ff67",
   "metadata": {},
   "source": [
    "## URL"
   ]
  },
  {
   "cell_type": "code",
   "execution_count": null,
   "id": "ad6e347b",
   "metadata": {},
   "outputs": [],
   "source": [
    "# export\n",
    "URLs = _get_URLs()"
   ]
  },
  {
   "cell_type": "markdown",
   "id": "848fe19d",
   "metadata": {},
   "source": [
    "## FastDownload"
   ]
  },
  {
   "cell_type": "code",
   "execution_count": null,
   "id": "e04c48a3",
   "metadata": {},
   "outputs": [],
   "source": [
    "# export\n",
    "class FastDownload:\n",
    "    def __init__(self, cfg=None, dir='~/.fastai', archive_path=None, data_path=None, overwrite=False):\n",
    "        config = Config() if cfg is None else cfg\n",
    "        data_path = data_path or config['data']\n",
    "        archive_path = archive_path or config['archive']\n",
    "        store_attr('data_path, archive_path')\n",
    "    \n",
    "    def download(self, url_, dest=None, force_download=False):\n",
    "        url, run_checks = (url_, False) if isinstance(url_, str) else (url_[0], True)\n",
    "        fname = Path(url.split('/')[-1])\n",
    "        fpath = self.archive_path/fname\n",
    "        dest  = self.data_path/fname.with_suffix('')\n",
    "        if fpath.exists() and _check_url(url) and _check_file(fpath) != _check_url(url):\n",
    "            print(\"A new version of this dataset is available, downloading...\")\n",
    "            force_download = True\n",
    "        if force_download: \n",
    "            if fpath.exists(): os.remove(fpath)\n",
    "            if dest.exists(): shutil.rmtree(dest)\n",
    "        if not dest.exists():\n",
    "            fpath = download_data(src=url, dest=fpath)        \n",
    "            if run_checks:\n",
    "                if not _check_present(url_): add_check(fpath, url)\n",
    "                if _check_url(url) and _check_file(fpath) != _check_url(url):\n",
    "                    warnings.warn(f\"File downloaded seems broken. Remove {fname} and try again.\")\n",
    "            file_extract(fpath, dest.parent)\n",
    "        return dest"
   ]
  },
  {
   "cell_type": "markdown",
   "id": "1cfa23cb",
   "metadata": {},
   "source": [
    "## Export"
   ]
  },
  {
   "cell_type": "code",
   "execution_count": null,
   "id": "52d848a4",
   "metadata": {},
   "outputs": [
    {
     "name": "stdout",
     "output_type": "stream",
     "text": [
      "Converted 00_helpers.ipynb.\n",
      "Converted 01_external.ipynb.\n",
      "Converted index.ipynb.\n"
     ]
    }
   ],
   "source": [
    "#hide\n",
    "from nbdev.export import notebook2script\n",
    "notebook2script()"
   ]
  }
 ],
 "metadata": {
  "kernelspec": {
   "display_name": "Python 3",
   "language": "python",
   "name": "python3"
  }
 },
 "nbformat": 4,
 "nbformat_minor": 5
}
